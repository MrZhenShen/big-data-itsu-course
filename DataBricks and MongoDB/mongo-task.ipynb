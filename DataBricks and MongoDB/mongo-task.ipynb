{
 "cells": [
  {
   "cell_type": "code",
   "execution_count": 2,
   "metadata": {},
   "outputs": [],
   "source": [
    "from pymongo import MongoClient\n",
    "import json"
   ]
  },
  {
   "cell_type": "code",
   "execution_count": 3,
   "metadata": {},
   "outputs": [
    {
     "name": "stdout",
     "output_type": "stream",
     "text": [
      "Collection 'movies' has been created.\n",
      "Data has been inserted into the MongoDB collection.\n"
     ]
    }
   ],
   "source": [
    "# Connect to the MongoDB client\n",
    "client = MongoClient('mongodb://localhost:27017/')\n",
    "\n",
    "# Database name\n",
    "db = client['cinema']\n",
    "\n",
    "# Collection name\n",
    "collection_name = 'movies'\n",
    "\n",
    "# Check if the collection exists\n",
    "if collection_name in db.list_collection_names():\n",
    "    print(f\"Collection '{collection_name}' already exists.\")\n",
    "else:\n",
    "    # Create a new collection\n",
    "    db.create_collection(collection_name)\n",
    "    print(f\"Collection '{collection_name}' has been created.\")\n",
    "\n",
    "# Path to your JSON file\n",
    "file_path = './movies.json'\n",
    "\n",
    "# Load JSON data from the file\n",
    "with open(file_path, 'r') as file:\n",
    "    data = json.load(file)\n",
    "\n",
    "# Insert data into the collection\n",
    "if isinstance(data, list):\n",
    "    db[collection_name].insert_many(data)\n",
    "else:\n",
    "    db[collection_name].insert_one(data)\n",
    "\n",
    "print(\"Data has been inserted into the MongoDB collection.\")"
   ]
  },
  {
   "cell_type": "code",
   "execution_count": null,
   "metadata": {},
   "outputs": [],
   "source": []
  }
 ],
 "metadata": {
  "kernelspec": {
   "display_name": "data-engineering",
   "language": "python",
   "name": "python3"
  },
  "language_info": {
   "codemirror_mode": {
    "name": "ipython",
    "version": 3
   },
   "file_extension": ".py",
   "mimetype": "text/x-python",
   "name": "python",
   "nbconvert_exporter": "python",
   "pygments_lexer": "ipython3",
   "version": "3.11.8"
  }
 },
 "nbformat": 4,
 "nbformat_minor": 2
}
